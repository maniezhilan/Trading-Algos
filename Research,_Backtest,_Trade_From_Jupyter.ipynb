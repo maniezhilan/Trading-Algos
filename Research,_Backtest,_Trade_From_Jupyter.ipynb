{
  "nbformat": 4,
  "nbformat_minor": 0,
  "metadata": {
    "colab": {
      "name": "Research, Backtest, Trade From Jupyter.ipynb",
      "provenance": [],
      "collapsed_sections": [],
      "include_colab_link": true
    },
    "kernelspec": {
      "name": "python3",
      "display_name": "Python 3"
    },
    "language_info": {
      "name": "python"
    }
  },
  "cells": [
    {
      "cell_type": "markdown",
      "metadata": {
        "id": "view-in-github",
        "colab_type": "text"
      },
      "source": [
        "<a href=\"https://colab.research.google.com/github/maniezhilan/Trading-Algos/blob/master/Research%2C_Backtest%2C_Trade_From_Jupyter.ipynb\" target=\"_parent\"><img src=\"https://colab.research.google.com/assets/colab-badge.svg\" alt=\"Open In Colab\"/></a>"
      ]
    },
    {
      "cell_type": "markdown",
      "metadata": {
        "id": "M7pQhaef1DwB"
      },
      "source": [
        "# Welcome to the Alpaca Google Colab Instant Development Environment! \n",
        "\n",
        "Alpaca offers free live and historical market data for stocks and cryptocurrencies, and also offers free paper and live trading environments. These services are accessed by API and you can use them for a variety of things, like research and backtesting using market data, paper trading crypto, etc. \n",
        "\n",
        "This notebook allows you to quickly get started with Alpaca and start exploring what you can build. \n",
        "\n",
        "You can use this notebook to research new ideas, backtest them and even place trades.\n"
      ]
    },
    {
      "cell_type": "markdown",
      "metadata": {
        "id": "w-q0EjKklL2U"
      },
      "source": [
        "# Table of Contents\n",
        "1. [Introduction](#first-bullet)\n",
        "2. [Accessing Market Data](#second-bullet)\n",
        "3. [Backtesting](#third-bullet)\n",
        "4. [Paper Trading](#fourth-bullet)"
      ]
    },
    {
      "cell_type": "markdown",
      "metadata": {
        "id": "ES8D3B6qljbG"
      },
      "source": [
        "#Introduction <a class=\"anchor\" id=\"first-bullet\"></a>"
      ]
    },
    {
      "cell_type": "markdown",
      "metadata": {
        "id": "zd0M5mAF8qgo"
      },
      "source": [
        "To follow along, you'll need to use your Alpaca API paper keys.\n",
        "\n",
        "If you don't have keys, sign up here:\n",
        "[Free Stock and Crypto Data with $0 Commission Trading](https://app.alpaca.markets/signup)\n",
        "\n",
        "You can find your keys on your [dashboard](https://app.alpaca.markets/paper/dashboard/overview). If you're having trouble finding your keys, follow [this tutorial](https://alpaca.markets/learn/connect-to-alpaca-api/). "
      ]
    },
    {
      "cell_type": "code",
      "metadata": {
        "id": "VmVhKl31yhMl"
      },
      "source": [
        "API_KEY = '<Your API Key>'\n",
        "SECRET_KEY = '<Your API Secret Key>'"
      ],
      "execution_count": null,
      "outputs": []
    },
    {
      "cell_type": "markdown",
      "metadata": {
        "id": "TKSP80Cu9v0L"
      },
      "source": [
        "Now we can get started! We will need to import `alpaca_trade_api`. \n",
        "\n",
        "If we haven't installed it yet, we can do so by running `pip install alpaca_trade_api`.\n",
        "\n",
        "Then let's define an instance of the REST API interface and provide it our API keys."
      ]
    },
    {
      "cell_type": "code",
      "metadata": {
        "id": "Im3EbToYhh75"
      },
      "source": [
        "%%capture\n",
        "!pip install alpaca_trade_api\n",
        "!pip install backtrader\n",
        "!pip install matplotlib==3.2.2\n",
        "!pip install plotly"
      ],
      "execution_count": null,
      "outputs": []
    },
    {
      "cell_type": "code",
      "metadata": {
        "id": "3PlzuQZU9pvD"
      },
      "source": [
        "from alpaca_trade_api.rest import REST, TimeFrame\n",
        "from alpaca_trade_api.stream import Stream\n",
        "\n",
        "rest_api = REST(API_KEY, SECRET_KEY, 'https://paper-api.alpaca.markets')"
      ],
      "execution_count": null,
      "outputs": []
    },
    {
      "cell_type": "markdown",
      "metadata": {
        "id": "7jWbjYVc8XK7"
      },
      "source": [
        "#Accessing Market Data  <a class=\"anchor\" id=\"second-bullet\"></a>"
      ]
    },
    {
      "cell_type": "markdown",
      "metadata": {
        "id": "tpAgTpfs-mfq"
      },
      "source": [
        "The REST API allows you to access historical market data, account data, and place trades.\n",
        "\n",
        "Here are some of the types of the market data Alpaca offers:\n",
        "*   Bar data is available in custom timeframes (1 day, 30 mins, 5 mins, etc)\n",
        "*   Quote and Trade data is also available\n",
        "\n",
        "Let's take at daily bar data for SPY between Jan 1st 2021 and Jan 30th 2021."
      ]
    },
    {
      "cell_type": "code",
      "metadata": {
        "id": "HfhutzE_yrTj",
        "colab": {
          "base_uri": "https://localhost:8080/",
          "height": 417
        },
        "outputId": "70602847-3553-4934-c6b8-5d34f0987f82"
      },
      "source": [
        "# retrieve daily bar data for SPY in a dataframe \n",
        "spy_bars = rest_api.get_bars('SPY', TimeFrame.Day, '2021-01-01', '2021-03-30').df\n",
        "spy_bars\n",
        "\n",
        "# quote and trade data also available for equities\n",
        "# spy_quotes = rest_api.get_quotes('SPY', '2021-01-01', '2021-01-05').df\n",
        "# spy_trades = rest_api.get_trades('SPY', '2021-01-01', '2021-01-05').df"
      ],
      "execution_count": null,
      "outputs": [
        {
          "output_type": "error",
          "ename": "HTTPError",
          "evalue": "ignored",
          "traceback": [
            "\u001b[0;31m---------------------------------------------------------------------------\u001b[0m",
            "\u001b[0;31mHTTPError\u001b[0m                                 Traceback (most recent call last)",
            "\u001b[0;32m<ipython-input-4-8c3325091d6a>\u001b[0m in \u001b[0;36m<module>\u001b[0;34m()\u001b[0m\n\u001b[1;32m      1\u001b[0m \u001b[0;31m# retrieve daily bar data for SPY in a dataframe\u001b[0m\u001b[0;34m\u001b[0m\u001b[0;34m\u001b[0m\u001b[0;34m\u001b[0m\u001b[0m\n\u001b[0;32m----> 2\u001b[0;31m \u001b[0mspy_bars\u001b[0m \u001b[0;34m=\u001b[0m \u001b[0mrest_api\u001b[0m\u001b[0;34m.\u001b[0m\u001b[0mget_bars\u001b[0m\u001b[0;34m(\u001b[0m\u001b[0;34m'SPY'\u001b[0m\u001b[0;34m,\u001b[0m \u001b[0mTimeFrame\u001b[0m\u001b[0;34m.\u001b[0m\u001b[0mDay\u001b[0m\u001b[0;34m,\u001b[0m \u001b[0;34m'2021-01-01'\u001b[0m\u001b[0;34m,\u001b[0m \u001b[0;34m'2021-03-30'\u001b[0m\u001b[0;34m)\u001b[0m\u001b[0;34m.\u001b[0m\u001b[0mdf\u001b[0m\u001b[0;34m\u001b[0m\u001b[0;34m\u001b[0m\u001b[0m\n\u001b[0m\u001b[1;32m      3\u001b[0m \u001b[0mspy_bars\u001b[0m\u001b[0;34m\u001b[0m\u001b[0;34m\u001b[0m\u001b[0m\n\u001b[1;32m      4\u001b[0m \u001b[0;34m\u001b[0m\u001b[0m\n\u001b[1;32m      5\u001b[0m \u001b[0;31m# quote and trade data also available for equities\u001b[0m\u001b[0;34m\u001b[0m\u001b[0;34m\u001b[0m\u001b[0;34m\u001b[0m\u001b[0m\n",
            "\u001b[0;32m/usr/local/lib/python3.7/dist-packages/alpaca_trade_api/rest.py\u001b[0m in \u001b[0;36mget_bars\u001b[0;34m(self, symbol, timeframe, start, end, adjustment, limit)\u001b[0m\n\u001b[1;32m    716\u001b[0m                                        \u001b[0madjustment\u001b[0m\u001b[0;34m,\u001b[0m\u001b[0;34m\u001b[0m\u001b[0;34m\u001b[0m\u001b[0m\n\u001b[1;32m    717\u001b[0m                                        \u001b[0mlimit\u001b[0m\u001b[0;34m,\u001b[0m\u001b[0;34m\u001b[0m\u001b[0;34m\u001b[0m\u001b[0m\n\u001b[0;32m--> 718\u001b[0;31m                                        raw=True))\n\u001b[0m\u001b[1;32m    719\u001b[0m         \u001b[0;32mreturn\u001b[0m \u001b[0mBarsV2\u001b[0m\u001b[0;34m(\u001b[0m\u001b[0mbars\u001b[0m\u001b[0;34m)\u001b[0m\u001b[0;34m\u001b[0m\u001b[0;34m\u001b[0m\u001b[0m\n\u001b[1;32m    720\u001b[0m \u001b[0;34m\u001b[0m\u001b[0m\n",
            "\u001b[0;32m/usr/local/lib/python3.7/dist-packages/alpaca_trade_api/rest.py\u001b[0m in \u001b[0;36mget_bars_iter\u001b[0;34m(self, symbol, timeframe, start, end, adjustment, limit, raw)\u001b[0m\n\u001b[1;32m    696\u001b[0m                               \u001b[0madjustment\u001b[0m\u001b[0;34m=\u001b[0m\u001b[0madjustment\u001b[0m\u001b[0;34m,\u001b[0m\u001b[0;34m\u001b[0m\u001b[0;34m\u001b[0m\u001b[0m\n\u001b[1;32m    697\u001b[0m                               start=start, end=end, limit=limit)\n\u001b[0;32m--> 698\u001b[0;31m         \u001b[0;32mfor\u001b[0m \u001b[0mbar\u001b[0m \u001b[0;32min\u001b[0m \u001b[0mbars\u001b[0m\u001b[0;34m:\u001b[0m\u001b[0;34m\u001b[0m\u001b[0;34m\u001b[0m\u001b[0m\n\u001b[0m\u001b[1;32m    699\u001b[0m             \u001b[0;32mif\u001b[0m \u001b[0mraw\u001b[0m\u001b[0;34m:\u001b[0m\u001b[0;34m\u001b[0m\u001b[0;34m\u001b[0m\u001b[0m\n\u001b[1;32m    700\u001b[0m                 \u001b[0;32myield\u001b[0m \u001b[0mbar\u001b[0m\u001b[0;34m\u001b[0m\u001b[0;34m\u001b[0m\u001b[0m\n",
            "\u001b[0;32m/usr/local/lib/python3.7/dist-packages/alpaca_trade_api/rest.py\u001b[0m in \u001b[0;36m_data_get\u001b[0;34m(self, endpoint, symbol_or_symbols, api_version, endpoint_base, **kwargs)\u001b[0m\n\u001b[1;32m    617\u001b[0m                 \u001b[0mpath\u001b[0m \u001b[0;34m=\u001b[0m \u001b[0;34mf'/{endpoint_base}/{endpoint}'\u001b[0m\u001b[0;34m\u001b[0m\u001b[0;34m\u001b[0m\u001b[0m\n\u001b[1;32m    618\u001b[0m                 \u001b[0mdata\u001b[0m\u001b[0;34m[\u001b[0m\u001b[0;34m'symbols'\u001b[0m\u001b[0;34m]\u001b[0m \u001b[0;34m=\u001b[0m \u001b[0;34m','\u001b[0m\u001b[0;34m.\u001b[0m\u001b[0mjoin\u001b[0m\u001b[0;34m(\u001b[0m\u001b[0msymbol_or_symbols\u001b[0m\u001b[0;34m)\u001b[0m\u001b[0;34m\u001b[0m\u001b[0;34m\u001b[0m\u001b[0m\n\u001b[0;32m--> 619\u001b[0;31m             \u001b[0mresp\u001b[0m \u001b[0;34m=\u001b[0m \u001b[0mself\u001b[0m\u001b[0;34m.\u001b[0m\u001b[0mdata_get\u001b[0m\u001b[0;34m(\u001b[0m\u001b[0mpath\u001b[0m\u001b[0;34m,\u001b[0m \u001b[0mdata\u001b[0m\u001b[0;34m=\u001b[0m\u001b[0mdata\u001b[0m\u001b[0;34m,\u001b[0m \u001b[0mapi_version\u001b[0m\u001b[0;34m=\u001b[0m\u001b[0mapi_version\u001b[0m\u001b[0;34m)\u001b[0m\u001b[0;34m\u001b[0m\u001b[0;34m\u001b[0m\u001b[0m\n\u001b[0m\u001b[1;32m    620\u001b[0m             \u001b[0;32mif\u001b[0m \u001b[0misinstance\u001b[0m\u001b[0;34m(\u001b[0m\u001b[0msymbol_or_symbols\u001b[0m\u001b[0;34m,\u001b[0m \u001b[0mstr\u001b[0m\u001b[0;34m)\u001b[0m\u001b[0;34m:\u001b[0m\u001b[0;34m\u001b[0m\u001b[0;34m\u001b[0m\u001b[0m\n\u001b[1;32m    621\u001b[0m                 \u001b[0;32mfor\u001b[0m \u001b[0mitem\u001b[0m \u001b[0;32min\u001b[0m \u001b[0mresp\u001b[0m\u001b[0;34m.\u001b[0m\u001b[0mget\u001b[0m\u001b[0;34m(\u001b[0m\u001b[0mendpoint\u001b[0m\u001b[0;34m,\u001b[0m \u001b[0;34m[\u001b[0m\u001b[0;34m]\u001b[0m\u001b[0;34m)\u001b[0m \u001b[0;32mor\u001b[0m \u001b[0;34m[\u001b[0m\u001b[0;34m]\u001b[0m\u001b[0;34m:\u001b[0m\u001b[0;34m\u001b[0m\u001b[0;34m\u001b[0m\u001b[0m\n",
            "\u001b[0;32m/usr/local/lib/python3.7/dist-packages/alpaca_trade_api/rest.py\u001b[0m in \u001b[0;36mdata_get\u001b[0;34m(self, path, data, api_version)\u001b[0m\n\u001b[1;32m    239\u001b[0m         \u001b[0mbase_url\u001b[0m\u001b[0;34m:\u001b[0m \u001b[0mURL\u001b[0m \u001b[0;34m=\u001b[0m \u001b[0mget_data_url\u001b[0m\u001b[0;34m(\u001b[0m\u001b[0;34m)\u001b[0m\u001b[0;34m\u001b[0m\u001b[0;34m\u001b[0m\u001b[0m\n\u001b[1;32m    240\u001b[0m         return self._request(\n\u001b[0;32m--> 241\u001b[0;31m             \u001b[0;34m'GET'\u001b[0m\u001b[0;34m,\u001b[0m \u001b[0mpath\u001b[0m\u001b[0;34m,\u001b[0m \u001b[0mdata\u001b[0m\u001b[0;34m,\u001b[0m \u001b[0mbase_url\u001b[0m\u001b[0;34m=\u001b[0m\u001b[0mbase_url\u001b[0m\u001b[0;34m,\u001b[0m \u001b[0mapi_version\u001b[0m\u001b[0;34m=\u001b[0m\u001b[0mapi_version\u001b[0m\u001b[0;34m,\u001b[0m\u001b[0;34m\u001b[0m\u001b[0;34m\u001b[0m\u001b[0m\n\u001b[0m\u001b[1;32m    242\u001b[0m         )\n\u001b[1;32m    243\u001b[0m \u001b[0;34m\u001b[0m\u001b[0m\n",
            "\u001b[0;32m/usr/local/lib/python3.7/dist-packages/alpaca_trade_api/rest.py\u001b[0m in \u001b[0;36m_request\u001b[0;34m(self, method, path, data, base_url, api_version)\u001b[0m\n\u001b[1;32m    185\u001b[0m         \u001b[0;32mwhile\u001b[0m \u001b[0mretry\u001b[0m \u001b[0;34m>=\u001b[0m \u001b[0;36m0\u001b[0m\u001b[0;34m:\u001b[0m\u001b[0;34m\u001b[0m\u001b[0;34m\u001b[0m\u001b[0m\n\u001b[1;32m    186\u001b[0m             \u001b[0;32mtry\u001b[0m\u001b[0;34m:\u001b[0m\u001b[0;34m\u001b[0m\u001b[0;34m\u001b[0m\u001b[0m\n\u001b[0;32m--> 187\u001b[0;31m                 \u001b[0;32mreturn\u001b[0m \u001b[0mself\u001b[0m\u001b[0;34m.\u001b[0m\u001b[0m_one_request\u001b[0m\u001b[0;34m(\u001b[0m\u001b[0mmethod\u001b[0m\u001b[0;34m,\u001b[0m \u001b[0murl\u001b[0m\u001b[0;34m,\u001b[0m \u001b[0mopts\u001b[0m\u001b[0;34m,\u001b[0m \u001b[0mretry\u001b[0m\u001b[0;34m)\u001b[0m\u001b[0;34m\u001b[0m\u001b[0;34m\u001b[0m\u001b[0m\n\u001b[0m\u001b[1;32m    188\u001b[0m             \u001b[0;32mexcept\u001b[0m \u001b[0mRetryException\u001b[0m\u001b[0;34m:\u001b[0m\u001b[0;34m\u001b[0m\u001b[0;34m\u001b[0m\u001b[0m\n\u001b[1;32m    189\u001b[0m                 \u001b[0mretry_wait\u001b[0m \u001b[0;34m=\u001b[0m \u001b[0mself\u001b[0m\u001b[0;34m.\u001b[0m\u001b[0m_retry_wait\u001b[0m\u001b[0;34m\u001b[0m\u001b[0;34m\u001b[0m\u001b[0m\n",
            "\u001b[0;32m/usr/local/lib/python3.7/dist-packages/alpaca_trade_api/rest.py\u001b[0m in \u001b[0;36m_one_request\u001b[0;34m(self, method, url, opts, retry)\u001b[0m\n\u001b[1;32m    206\u001b[0m         \u001b[0mresp\u001b[0m \u001b[0;34m=\u001b[0m \u001b[0mself\u001b[0m\u001b[0;34m.\u001b[0m\u001b[0m_session\u001b[0m\u001b[0;34m.\u001b[0m\u001b[0mrequest\u001b[0m\u001b[0;34m(\u001b[0m\u001b[0mmethod\u001b[0m\u001b[0;34m,\u001b[0m \u001b[0murl\u001b[0m\u001b[0;34m,\u001b[0m \u001b[0;34m**\u001b[0m\u001b[0mopts\u001b[0m\u001b[0;34m)\u001b[0m\u001b[0;34m\u001b[0m\u001b[0;34m\u001b[0m\u001b[0m\n\u001b[1;32m    207\u001b[0m         \u001b[0;32mtry\u001b[0m\u001b[0;34m:\u001b[0m\u001b[0;34m\u001b[0m\u001b[0;34m\u001b[0m\u001b[0m\n\u001b[0;32m--> 208\u001b[0;31m             \u001b[0mresp\u001b[0m\u001b[0;34m.\u001b[0m\u001b[0mraise_for_status\u001b[0m\u001b[0;34m(\u001b[0m\u001b[0;34m)\u001b[0m\u001b[0;34m\u001b[0m\u001b[0;34m\u001b[0m\u001b[0m\n\u001b[0m\u001b[1;32m    209\u001b[0m         \u001b[0;32mexcept\u001b[0m \u001b[0mHTTPError\u001b[0m \u001b[0;32mas\u001b[0m \u001b[0mhttp_error\u001b[0m\u001b[0;34m:\u001b[0m\u001b[0;34m\u001b[0m\u001b[0;34m\u001b[0m\u001b[0m\n\u001b[1;32m    210\u001b[0m             \u001b[0;31m# retry if we hit Rate Limit\u001b[0m\u001b[0;34m\u001b[0m\u001b[0;34m\u001b[0m\u001b[0;34m\u001b[0m\u001b[0m\n",
            "\u001b[0;32m/usr/local/lib/python3.7/dist-packages/requests/models.py\u001b[0m in \u001b[0;36mraise_for_status\u001b[0;34m(self)\u001b[0m\n\u001b[1;32m    939\u001b[0m \u001b[0;34m\u001b[0m\u001b[0m\n\u001b[1;32m    940\u001b[0m         \u001b[0;32mif\u001b[0m \u001b[0mhttp_error_msg\u001b[0m\u001b[0;34m:\u001b[0m\u001b[0;34m\u001b[0m\u001b[0;34m\u001b[0m\u001b[0m\n\u001b[0;32m--> 941\u001b[0;31m             \u001b[0;32mraise\u001b[0m \u001b[0mHTTPError\u001b[0m\u001b[0;34m(\u001b[0m\u001b[0mhttp_error_msg\u001b[0m\u001b[0;34m,\u001b[0m \u001b[0mresponse\u001b[0m\u001b[0;34m=\u001b[0m\u001b[0mself\u001b[0m\u001b[0;34m)\u001b[0m\u001b[0;34m\u001b[0m\u001b[0;34m\u001b[0m\u001b[0m\n\u001b[0m\u001b[1;32m    942\u001b[0m \u001b[0;34m\u001b[0m\u001b[0m\n\u001b[1;32m    943\u001b[0m     \u001b[0;32mdef\u001b[0m \u001b[0mclose\u001b[0m\u001b[0;34m(\u001b[0m\u001b[0mself\u001b[0m\u001b[0;34m)\u001b[0m\u001b[0;34m:\u001b[0m\u001b[0;34m\u001b[0m\u001b[0;34m\u001b[0m\u001b[0m\n",
            "\u001b[0;31mHTTPError\u001b[0m: 403 Client Error: Forbidden for url: https://data.alpaca.markets/v2/stocks/SPY/bars?timeframe=1Day&adjustment=raw&start=2021-01-01&end=2021-03-30"
          ]
        }
      ]
    },
    {
      "cell_type": "markdown",
      "metadata": {
        "id": "JcKKVGagAYz4"
      },
      "source": [
        "Historical market data is also available for cryptocurrencies. \n",
        "\n",
        "Currently, alpaca supports `Bitcoin (BTCUSD)`, `Ethereum (ETHUSD)`, `Litecoin (LTCUSD)`, and `Bitcoin Cash (BCHUSD)`\n",
        "\n",
        "Let's take a look at quote data for Bitcoin between Jan 1st 2020 and Jan 1st 2021."
      ]
    },
    {
      "cell_type": "code",
      "metadata": {
        "id": "NrRZkTzA16M2"
      },
      "source": [
        "# retrieve quote data for Bitcoin in a dataframe\n",
        "bitcoin_quotes = rest_api.get_crypto_quotes('BTCUSD', '2021-01-01', '2021-01-01').df\n",
        "bitcoin_quotes\n",
        "\n",
        "# bar and trade data also available for crypto\n",
        "# bitcoin_bars = rest_api.get_crypto_bars('BTCUSD', TimeFrame.Day, '2020-01-01', '2021-01-05').df\n",
        "# bitcoin_trades = rest_api.get_crypto_trades('BTCUSD', '2021-01-01', '2021-01-05').df"
      ],
      "execution_count": null,
      "outputs": []
    },
    {
      "cell_type": "markdown",
      "metadata": {
        "id": "2udF911dJ1bc"
      },
      "source": [
        "Using Jupyter notebooks allow you to easily visualize data and test ideas. \n",
        "\n",
        "For example, we can use plotly to make beautiful candle charts of SPY's daily bar data. \n",
        "\n",
        "We can also calculate the 13 day simple moving average (SMA) for SPY over that period using pandas operations, and add it onto our chart."
      ]
    },
    {
      "cell_type": "code",
      "metadata": {
        "id": "vHHonNGh2y6H"
      },
      "source": [
        "# plotly imports\n",
        "import plotly.graph_objects as go\n",
        "import plotly.express as px\n",
        "\n",
        "# SPY bar data candlestick plot\n",
        "candlestick_fig = go.Figure(data=[go.Candlestick(x=spy_bars.index,\n",
        "                open=spy_bars['open'],\n",
        "                high=spy_bars['high'],\n",
        "                low=spy_bars['low'],\n",
        "                close=spy_bars['close'])])\n",
        "\n",
        "# calculating 13 day SMA using pandas rolling mean\n",
        "sma = spy_bars['close'].rolling(13).mean().dropna()\n",
        "\n",
        "# creating a line plot for our sma\n",
        "sma_fig = px.line(x=sma.index, y=sma)\n",
        "\n",
        "# adding both plots onto one chart\n",
        "fig = go.Figure(data=candlestick_fig.data + sma_fig.data)\n",
        "\n",
        "# displaying our chart\n",
        "fig.show()"
      ],
      "execution_count": null,
      "outputs": []
    },
    {
      "cell_type": "markdown",
      "metadata": {
        "id": "JPAf9Uqv8wFz"
      },
      "source": [
        "#Backtesting  <a class=\"anchor\" id=\"third-bullet\"></a>"
      ]
    },
    {
      "cell_type": "markdown",
      "metadata": {
        "id": "_bTKZmLAnZ1m"
      },
      "source": [
        "We can use backtrader along with Alpaca’s Market Data API to backtest a strategy’s performance with historical data. Backtrader allows you to focus on writing reusable trading strategies, indicators and analyzers instead of having to spend time building infrastructure. \n",
        "\n",
        "Below we wrote a function that allows you to easily backtest a strategy written in backtrader. The function takes in as a parameter the strategy you wish to backtest, the symbols the strategy trades on, start and end dates of the backtest, the timeframe of the strategy, and the initial cash of the backtest. \n"
      ]
    },
    {
      "cell_type": "code",
      "metadata": {
        "id": "Zyob9JG5SZWu"
      },
      "source": [
        "import backtrader as bt\n",
        "import matplotlib as mpl\n",
        "mpl.rcParams['figure.dpi'] = 150\n",
        "\n",
        "def run_backtest(strategy, symbols, start, end, timeframe=TimeFrame.Day, cash=10000):\n",
        " \"\"\"params:\n",
        "       strategy: the strategy you wish to backtest, an instance of backtrader.Strategy\n",
        "       symbols: the symbol (str) or list of symbols List[str] you wish to backtest on\n",
        "       start: start date of backtest in format 'YYYY-MM-DD'\n",
        "       end: end date of backtest in format: 'YYYY-MM-DD'\n",
        "       timeframe: the timeframe the strategy trades on (size of bars) -\n",
        "                   1 min: TimeFrame.Minute, 1 day: TimeFrame.Day, 5 min: TimeFrame(5, TimeFrameUnit.Minute)\n",
        "       cash: the starting cash of backtest\n",
        " \"\"\"\n",
        "\n",
        " # initialize backtrader broker\n",
        " cerebro = bt.Cerebro(stdstats=True)\n",
        " cerebro.broker.setcash(cash)\n",
        "\n",
        " # add strategy\n",
        " cerebro.addstrategy(strategy)\n",
        "\n",
        " # add analytics\n",
        " # cerebro.addobserver(bt.observers.Value)\n",
        " # cerebro.addobserver(bt.observers.BuySell)\n",
        " cerebro.addanalyzer(bt.analyzers.SharpeRatio, _name='mysharpe')\n",
        "  # historical data request\n",
        " if type(symbols) == str:\n",
        "   symbol = symbols\n",
        "   alpaca_data = rest_api.get_bars(symbol, timeframe, start, end, adjustment='all').df\n",
        "   data = bt.feeds.PandasData(dataname=alpaca_data, name=symbol)\n",
        "   cerebro.adddata(data)\n",
        " elif type(symbols) == list or type(symbols) == set:\n",
        "   for symbol in symbols:\n",
        "     alpaca_data = rest_api.get_bars(symbol, timeframe, start, end, adjustment='all').df\n",
        "     data = bt.feeds.PandasData(dataname=alpaca_data, name=symbol)\n",
        "     cerebro.adddata(data)\n",
        "\n",
        "\n",
        " # run\n",
        " initial_portfolio_value = cerebro.broker.getvalue()\n",
        " print(f'Starting Portfolio Value: {initial_portfolio_value}')\n",
        " results = cerebro.run()\n",
        " final_portfolio_value = cerebro.broker.getvalue()\n",
        " print(f'Final Portfolio Value: {final_portfolio_value} ---> Return: {(final_portfolio_value/initial_portfolio_value - 1)*100}%')\n",
        "\n",
        " strat = results[0]\n",
        " print('Sharpe Ratio:', strat.analyzers.mysharpe.get_analysis()['sharperatio'])\n",
        " cerebro.plot(iplot= False)\n"
      ],
      "execution_count": null,
      "outputs": []
    },
    {
      "cell_type": "markdown",
      "metadata": {
        "id": "NLODnfHlnb8-"
      },
      "source": [
        "## Backtesting Example 1: Simple Moving Average Crossover\n",
        "\n",
        "Below is an example of a simple backtrader strategy. It is a simple moving average crossover strategy which trades when the 13 day SMA crosses over the 25 day SMA, and sells when it crosses under.  In this example, a crossover indicator is created which is 1 when the fast SMA crosses over the slow SMA, -1 when the fast crosses below the slow, and 0 if there is no crossover.\n",
        "\n",
        "Take note of the structure of the strategy. We can define parameters for the strategy in the `params` dictionary. Any indicators can be defined in `__init__`. You can find a full list of indicators in the backtrader documentation. The `next()` method is called each iteration of the backtest. \n",
        "\n",
        "\n",
        "At the end you can run `run_backtest(SmaCross, 'AAPL', '2019-01-01', '2021-11-01', TimeFrame.Day, 10000)`, which will compute the backtest and output the results.\n",
        "\n"
      ]
    },
    {
      "cell_type": "code",
      "metadata": {
        "id": "jbMnVYJTxOiw"
      },
      "source": [
        "class SmaCross(bt.Strategy):\n",
        "  \n",
        "  # list of parameters which are configurable for the strategy\n",
        "    params = dict(\n",
        "        pfast=13,  # period for the fast moving average\n",
        "        pslow=25   # period for the slow moving average\n",
        "    )\n",
        "\n",
        "    def __init__(self):\n",
        "        sma1 = bt.ind.SMA(period=self.p.pfast)  # fast moving average\n",
        "        sma2 = bt.ind.SMA(period=self.p.pslow)  # slow moving average\n",
        "        self.crossover = bt.ind.CrossOver(sma1, sma2)  # crossover signal\n",
        "  \n",
        "    def next(self):\n",
        "        if not self.position and self.crossover > 0:  # not in the market\n",
        "            self.buy()\n",
        "           \n",
        "        elif self.position and self.crossover < 0:  # in the market & cross to the downside\n",
        "            self.close()  # close long position\n",
        "\n",
        "\n",
        "run_backtest(SmaCross, 'AAPL', '2019-01-01', '2021-11-01', TimeFrame.Day, 10000)"
      ],
      "execution_count": null,
      "outputs": []
    },
    {
      "cell_type": "markdown",
      "metadata": {
        "id": "SOadjh2znoIB"
      },
      "source": [
        "## Backtesting Example 2: All Weather Portfolio\n",
        "\n",
        "Another class of strategies are rebalancing strategies. These strategies attempt to match a desired portfolio. Some rebalancing strategies change the securities in their portfolio based on market conditions, others maintain a steady allocation through all conditions. \n",
        "\n",
        "A famous rebalancing strategy is called the [All Weather Portfolio](https://www.optimizedportfolio.com/all-weather-portfolio/) by Ray Dalio. It attempts to produce steady returns through all market conditions by investing in a variety of sectors. \n",
        "\n",
        "We'll create the portfolio by allocating to these industry ETFs.\n",
        "30% Vanguard Total Stock Market ETF (VTI)\n",
        "* 40% iShares 20+ Year Treasury ETF (TLT)\n",
        "* 15% iShares 7 – 10 Year Treasury ETF (IEF)\n",
        "* 7.5% SPDR Gold Shares ETF (GLD)\n",
        "* 7.5% PowerShares DB Commodity Index Tracking Fund (DBC)\n"
      ]
    },
    {
      "cell_type": "code",
      "metadata": {
        "id": "84f2GYLh9kuN"
      },
      "source": [
        "class AllWeatherStrategy(bt.Strategy):\n",
        "\n",
        "   def __init__(self):\n",
        "       # the last year we rebalanced (initialized to -1)\n",
        "       self.year_last_rebalanced = -1 \n",
        "       self.weights = { \"VTI\" : 0.30 , \"TLT\" : 0.40, \"IEF\": 0.15, \"GLD\" : 0.075, \"DBC\" : 0.075 }\n",
        "\n",
        "   def next(self):\n",
        "       # if we’ve already rebalanced this year\n",
        "       if self.datetime.date().year == self.year_last_rebalanced:\n",
        "           return\n",
        "       # update year last balanced\n",
        "       self.year_last_rebalanced = self.datetime.date().year\n",
        "       # enumerate through each security\n",
        "       for i,d in enumerate(self.datas):\n",
        "           # rebalance portfolio with desired target percents\n",
        "           symbol = d._name\n",
        "           self.order_target_percent(d, target=self.weights[symbol])\n",
        "\n",
        "run_backtest(AllWeatherStrategy, [\"VTI\", \"TLT\", \"IEF\", \"GLD\", \"DBC\"] , '2015-01-01', '2021-11-01', TimeFrame.Day, 10000)"
      ],
      "execution_count": null,
      "outputs": []
    },
    {
      "cell_type": "markdown",
      "metadata": {
        "id": "m3PddrkRh8o-"
      },
      "source": [
        "# Paper Trading  <a class=\"anchor\" id=\"fourth-bullet\"></a>"
      ]
    },
    {
      "cell_type": "markdown",
      "metadata": {
        "id": "_GRNp9mZjUFZ"
      },
      "source": [
        "We can use Alpaca’s trade API to place paper trades on our Alpaca account. Paper trading is free and doesn’t require you to fund your account. Let’s place trades so that we can create the All Weather Portfolio in our paper account.\n",
        "\n",
        "\n",
        "\n"
      ]
    },
    {
      "cell_type": "code",
      "metadata": {
        "id": "K_g2UWOaDZNQ"
      },
      "source": [
        "import random \n",
        "\n",
        "percent_allocations = {'VTI': 0.30, 'TLT': 0.40, 'IEF': 0.15, 'GLD': 0.075, 'DBC': 0.075}\n",
        "\n",
        "\n",
        "# get total account value\n",
        "account_equity = float(rest_api.get_account().equity)\n",
        "\n",
        "\n",
        "# how many dollars we want to allocate to each symbol\n",
        "dollar_value_allocations = {symbol: percent * account_equity for symbol, percent in percent_allocations.items()}\n",
        "\n",
        "# liquidate all existing positions before rebalancing\n",
        "rest_api.close_all_positions()\n",
        "\n",
        "\n",
        "# Rebalance portfolio\n",
        "for symbol, dollars_alloc in dollar_value_allocations.items():\n",
        "     \n",
        "    # market price of current ETF\n",
        "    market_price = rest_api.get_latest_bar(symbol).close\n",
        "    \n",
        "    # how many shares we want\n",
        "    target_holdings = dollars_alloc // market_price\n",
        "     \n",
        "    # how many shares we have to buy to match target\n",
        "    order_quantity = target_holdings\n",
        "     \n",
        "    # submit market order for this ETF\n",
        "    print(f\"Submitting market order for {order_quantity} shares of {symbol}\")\n",
        "    rest_api.submit_order(symbol, order_quantity, 'buy', 'market', client_order_id=f'colab_{random.randrange(10000000)}')"
      ],
      "execution_count": null,
      "outputs": []
    },
    {
      "cell_type": "code",
      "metadata": {
        "id": "JDpBCOg1r6ar"
      },
      "source": [],
      "execution_count": null,
      "outputs": []
    }
  ]
}